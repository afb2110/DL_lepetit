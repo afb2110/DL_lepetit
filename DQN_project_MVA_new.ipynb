{
 "cells": [
  {
   "cell_type": "markdown",
   "metadata": {},
   "source": [
    "**You may need to install [OpenCV](https://pypi.python.org/pypi/opencv-python) and [scikit-video](http://www.scikit-video.org/stable/).**"
   ]
  },
  {
   "cell_type": "code",
   "execution_count": 1,
   "metadata": {
    "scrolled": true
   },
   "outputs": [
    {
     "name": "stderr",
     "output_type": "stream",
     "text": [
      "Using TensorFlow backend.\n",
      "/home/afb2110/anaconda3/lib/python3.7/site-packages/tensorflow/python/framework/dtypes.py:526: FutureWarning: Passing (type, 1) or '1type' as a synonym of type is deprecated; in a future version of numpy, it will be understood as (type, (1,)) / '(1,)type'.\n",
      "  _np_qint8 = np.dtype([(\"qint8\", np.int8, 1)])\n",
      "/home/afb2110/anaconda3/lib/python3.7/site-packages/tensorflow/python/framework/dtypes.py:527: FutureWarning: Passing (type, 1) or '1type' as a synonym of type is deprecated; in a future version of numpy, it will be understood as (type, (1,)) / '(1,)type'.\n",
      "  _np_quint8 = np.dtype([(\"quint8\", np.uint8, 1)])\n",
      "/home/afb2110/anaconda3/lib/python3.7/site-packages/tensorflow/python/framework/dtypes.py:528: FutureWarning: Passing (type, 1) or '1type' as a synonym of type is deprecated; in a future version of numpy, it will be understood as (type, (1,)) / '(1,)type'.\n",
      "  _np_qint16 = np.dtype([(\"qint16\", np.int16, 1)])\n",
      "/home/afb2110/anaconda3/lib/python3.7/site-packages/tensorflow/python/framework/dtypes.py:529: FutureWarning: Passing (type, 1) or '1type' as a synonym of type is deprecated; in a future version of numpy, it will be understood as (type, (1,)) / '(1,)type'.\n",
      "  _np_quint16 = np.dtype([(\"quint16\", np.uint16, 1)])\n",
      "/home/afb2110/anaconda3/lib/python3.7/site-packages/tensorflow/python/framework/dtypes.py:530: FutureWarning: Passing (type, 1) or '1type' as a synonym of type is deprecated; in a future version of numpy, it will be understood as (type, (1,)) / '(1,)type'.\n",
      "  _np_qint32 = np.dtype([(\"qint32\", np.int32, 1)])\n",
      "/home/afb2110/anaconda3/lib/python3.7/site-packages/tensorflow/python/framework/dtypes.py:535: FutureWarning: Passing (type, 1) or '1type' as a synonym of type is deprecated; in a future version of numpy, it will be understood as (type, (1,)) / '(1,)type'.\n",
      "  np_resource = np.dtype([(\"resource\", np.ubyte, 1)])\n"
     ]
    }
   ],
   "source": [
    "import keras\n",
    "import numpy as np\n",
    "import io\n",
    "import base64\n",
    "from IPython.display import HTML\n",
    "import skvideo.io\n",
    "import cv2\n",
    "import json\n",
    "import ffmpeg\n",
    "\n",
    "from keras.models import Sequential,model_from_json\n",
    "from keras.layers.core import Dense, Flatten\n",
    "from keras.optimizers import sgd\n",
    "from keras.layers import Conv2D, MaxPooling2D, Activation, AveragePooling2D,Reshape,BatchNormalization, Dropout"
   ]
  },
  {
   "cell_type": "markdown",
   "metadata": {},
   "source": [
    "# MiniProject on Deep Reinforcement Learning"
   ]
  },
  {
   "cell_type": "markdown",
   "metadata": {},
   "source": [
    "__Notations__: $E_p$ is the expectation under probability $p$. Please justify each of your answer and widely comment your code."
   ]
  },
  {
   "cell_type": "markdown",
   "metadata": {},
   "source": [
    "# Context"
   ]
  },
  {
   "cell_type": "markdown",
   "metadata": {},
   "source": [
    "In a reinforcement learning algorithm, we modelize each step $t$ as an action $a_t$ obtained from a state $s_t$, i.e. $\\{(a_{t},s_{t})_{t\\leq T}\\}$ having the Markov property. We consider a discount factor $\\gamma \\in [0,1]$ that ensures convergence. The goal is to find among all the policies $\\pi$, one that maximizes the expected reward:\n",
    "\n",
    "\\begin{equation*}\n",
    "R(\\pi)=\\sum_{t\\leq T}E_{p^{\\pi}}[\\gamma^t r(s_{t},a_{t})] \\> ,\n",
    "\\end{equation*}\n",
    "\n",
    "where: \n",
    "\\begin{equation*}p^{\\pi}(a_{0},a_{1},s_{1},...,a_{T},s_{T})=p(a_{0})\\prod_{t=1}^{T}\\pi(a_{t}|s_{t})p(s_{t+1}|s_{t},a_{t}) \\> .\n",
    "\\end{equation*}\n",
    "\n",
    "We note the $Q$-function:\n",
    "\n",
    "\\begin{equation*}Q^\\pi(s,a)=E_{p^{\\pi}}[\\sum_{t\\leq T}\\gamma^{t}r(s_{t},a_{t})|s_{0}=s,a_{0}=a] \\> .\n",
    "\\end{equation*}\n",
    "\n",
    "Thus, the optimal Q function is:\n",
    "\\begin{equation*}\n",
    "Q^*(s,a)=\\max_{\\pi}Q^\\pi(s,a) \\> .\n",
    "\\end{equation*}\n",
    "\n",
    "In this project, we will apply the deep reinforcement learning techniques to a simple game: an agent will have to learn from scratch a policy that will permit it maximizing a reward."
   ]
  },
  {
   "cell_type": "markdown",
   "metadata": {},
   "source": [
    "## The environment, the agent and the game"
   ]
  },
  {
   "cell_type": "markdown",
   "metadata": {},
   "source": [
    "### The environment"
   ]
  },
  {
   "cell_type": "markdown",
   "metadata": {},
   "source": [
    "```Environment``` is an abstract class that represents the states, rewards, and actions to obtain the new state."
   ]
  },
  {
   "cell_type": "code",
   "execution_count": 2,
   "metadata": {},
   "outputs": [],
   "source": [
    "class Environment(object):\n",
    "    def __init__(self):\n",
    "        pass\n",
    "\n",
    "    def act(self, act):\n",
    "        \"\"\"\n",
    "        One can act on the environment and obtain its reaction:\n",
    "        - the new state\n",
    "        - the reward of the new state\n",
    "        - should we continue the game?\n",
    "\n",
    "        :return: state, reward, game_over\n",
    "        \"\"\"\n",
    "        pass\n",
    "\n",
    "\n",
    "    def reset(self):\n",
    "        \"\"\"\n",
    "        Reinitialize the environment to a random state and returns\n",
    "        the original state\n",
    "\n",
    "        :return: state\n",
    "        \"\"\"\n",
    "        pass\n",
    "    \n",
    "    def draw(self):\n",
    "        \"\"\"\n",
    "        Visualize in the console or graphically the current state\n",
    "        \"\"\"\n",
    "        pass"
   ]
  },
  {
   "cell_type": "markdown",
   "metadata": {},
   "source": [
    "The method ```act``` allows to act on the environment at a given state $s_t$ (stored internally), via action $a_t$. The method will return the new state $s_{t+1}$, the reward $r(s_{t},a_{t})$ and determines if $t\\leq T$ (*game_over*).\n",
    "\n",
    "The method ```reset``` simply reinitializes the environment to a random state $s_0$.\n",
    "\n",
    "The method ```draw``` displays the current state $s_t$ (this is useful to check the behavior of the Agent).\n",
    "\n",
    "We modelize $s_t$ as a tensor, while $a_t$ is an integer."
   ]
  },
  {
   "cell_type": "markdown",
   "metadata": {},
   "source": [
    "### The Agent"
   ]
  },
  {
   "cell_type": "markdown",
   "metadata": {},
   "source": [
    "The goal of the ```Agent``` is to interact with the ```Environment``` by proposing actions $a_t$ obtained from a given state $s_t$ to attempt to maximize its __reward__ $r(s_t,a_t)$. We propose the following abstract class:"
   ]
  },
  {
   "cell_type": "code",
   "execution_count": 3,
   "metadata": {},
   "outputs": [],
   "source": [
    "class Agent(object):\n",
    "    def __init__(self, epsilon=0.1, n_action=4):\n",
    "        self.epsilon = epsilon\n",
    "        self.n_action = n_action\n",
    "    \n",
    "    def set_epsilon(self,e):\n",
    "        self.epsilon = e\n",
    "\n",
    "    def act(self,s,train=True):\n",
    "        \"\"\" This function should return the next action to do:\n",
    "        an integer between 0 and 4 (not included) with a random exploration of epsilon\"\"\"\n",
    "        if train:\n",
    "            if np.random.rand() <= self.epsilon:\n",
    "                a = np.random.randint(0, self.n_action, size=1)[0]\n",
    "            else:\n",
    "                a = self.learned_act(s)\n",
    "        else: # in some cases, this can improve the performance.. remove it if poor performances\n",
    "            a = self.learned_act(s)\n",
    "\n",
    "        return a\n",
    "\n",
    "    def learned_act(self,s):\n",
    "        \"\"\" Act via the policy of the agent, from a given state s\n",
    "        it proposes an action a\"\"\"\n",
    "        pass\n",
    "\n",
    "    def reinforce(self, s, n_s, a, r, game_over_):\n",
    "        \"\"\" This function is the core of the learning algorithm. \n",
    "        It takes as an input the current state s_, the next state n_s_\n",
    "        the action a_ used to move from s_ to n_s_ and the reward r_.\n",
    "        \n",
    "        Its goal is to learn a policy.\n",
    "        \"\"\"\n",
    "        pass\n",
    "\n",
    "    def save(self):\n",
    "        \"\"\" This function returns basic stats if applicable: the\n",
    "        loss and/or the model\"\"\"\n",
    "        pass\n",
    "\n",
    "    def load(self):\n",
    "        \"\"\" This function allows to restore a model\"\"\"\n",
    "        pass"
   ]
  },
  {
   "cell_type": "markdown",
   "metadata": {},
   "source": [
    "***\n",
    "__Question 1__:\n",
    "Explain the function act. Why is ```epsilon``` essential?"
   ]
  },
  {
   "cell_type": "markdown",
   "metadata": {},
   "source": [
    "(you can use Markdown and Latex)"
   ]
  },
  {
   "cell_type": "markdown",
   "metadata": {},
   "source": [
    "The function act has two modes:\n",
    "- the training mode\n",
    "    * With a probability epsilon, the agent chooses a random action (exploration).\n",
    "    * With a probability 1-epsilon, the agent follows the current policy (exploitation).\n",
    "- the evaluating mode:\n",
    "    The agent systematically acts according to the current policy.  \n",
    "\n",
    "\n",
    "The epsilon is important because it regulates the exploration/exploitation ratio. It should be high at the beginning (more exploration in order to discover all possible state/action pairs) and lower and lower during training (mre exploitation when the learned policy becomes good)."
   ]
  },
  {
   "cell_type": "markdown",
   "metadata": {},
   "source": [
    "***\n",
    "### The Game"
   ]
  },
  {
   "cell_type": "markdown",
   "metadata": {},
   "source": [
    "The ```Agent``` and the ```Environment``` work in an interlaced way as in the following (take some time to understand this code as it is the core of the project)\n",
    "\n",
    "```python\n",
    "\n",
    "epoch = 300\n",
    "env = Environment()\n",
    "agent = Agent()\n",
    "\n",
    "\n",
    "# Number of won games\n",
    "score = 0\n",
    "loss = 0\n",
    "\n",
    "\n",
    "for e in range(epoch):\n",
    "    # At each epoch, we restart to a fresh game and get the initial state\n",
    "    state = env.reset()\n",
    "    # This assumes that the games will end\n",
    "    game_over = False\n",
    "\n",
    "    win = 0\n",
    "    lose = 0\n",
    "    \n",
    "    while not game_over:\n",
    "        # The agent performs an action\n",
    "        action = agent.act(state)\n",
    "\n",
    "        # Apply an action to the environment, get the next state, the reward\n",
    "        # and if the games end\n",
    "        prev_state = state\n",
    "        state, reward, game_over = env.act(action)\n",
    "\n",
    "        # Update the counters\n",
    "        if reward > 0:\n",
    "            win = win + reward\n",
    "        if reward < 0:\n",
    "            lose = lose -reward\n",
    "\n",
    "        # Apply the reinforcement strategy\n",
    "        loss = agent.reinforce(prev_state, state,  action, reward, game_over)\n",
    "\n",
    "    # Save as a mp4\n",
    "    if e % 10 == 0:\n",
    "        env.draw(e)\n",
    "\n",
    "    # Update stats\n",
    "    score += win-lose\n",
    "\n",
    "    print(\"Epoch {:03d}/{:03d} | Loss {:.4f} | Win/lose count {}/{} ({})\"\n",
    "          .format(e, epoch, loss, win, lose, win-lose))\n",
    "    agent.save()\n",
    "```"
   ]
  },
  {
   "cell_type": "markdown",
   "metadata": {},
   "source": [
    "# The game, *eat cheese*"
   ]
  },
  {
   "cell_type": "markdown",
   "metadata": {},
   "source": [
    "A rat runs on an island and tries to eat as much as possible. The island is subdivided into $N\\times N$ cells, in which there are cheese (+0.5) and poisonous cells (-1). The rat has a visibility of 2 cells (thus it can see $5^2$ cells). The rat is given a time $T$ to accumulate as much food as possible. It can perform 4 actions: going up, down, left, right. \n",
    "\n",
    "The goal is to code an agent to solve this task that will learn by trial and error. We propose the following environment:"
   ]
  },
  {
   "cell_type": "code",
   "execution_count": 12,
   "metadata": {},
   "outputs": [],
   "source": [
    "class Environment(object):\n",
    "    def __init__(self, grid_size=10, max_time=500, temperature=0.1):\n",
    "        grid_size = grid_size+4\n",
    "        self.grid_size = grid_size\n",
    "        self.max_time = max_time\n",
    "        self.temperature = temperature\n",
    "\n",
    "        #board on which one plays\n",
    "        self.board = np.zeros((grid_size,grid_size))\n",
    "        self.position = np.zeros((grid_size,grid_size))\n",
    "\n",
    "        # coordinate of the cat\n",
    "        self.x = 0\n",
    "        self.y = 1\n",
    "\n",
    "        # self time\n",
    "        self.t = 0\n",
    "\n",
    "        self.scale=16\n",
    "\n",
    "        self.to_draw = np.zeros((max_time+2, grid_size*self.scale, grid_size*self.scale, 3))\n",
    "\n",
    "\n",
    "    def draw(self,e):\n",
    "        skvideo.io.vwrite(str(e) + '.mp4', self.to_draw)\n",
    "\n",
    "    def get_frame(self,t):\n",
    "        b = np.zeros((self.grid_size,self.grid_size,3))+128\n",
    "        b[self.board>0,0] = 256\n",
    "        b[self.board < 0, 2] = 256\n",
    "        b[self.x,self.y,:]=256\n",
    "        b[-2:,:,:]=0\n",
    "        b[:,-2:,:]=0\n",
    "        b[:2,:,:]=0\n",
    "        b[:,:2,:]=0\n",
    "        \n",
    "        b =  cv2.resize(b, None, fx=self.scale, fy=self.scale, interpolation=cv2.INTER_NEAREST)\n",
    "\n",
    "        self.to_draw[t,:,:,:]=b\n",
    "\n",
    "\n",
    "    def act(self, action, train=True):\n",
    "        \"\"\"This function returns the new state, reward and decides if the\n",
    "        game ends.\"\"\"\n",
    "\n",
    "        self.get_frame(int(self.t))\n",
    "\n",
    "        self.position = np.zeros((self.grid_size, self.grid_size))\n",
    "\n",
    "        self.position[0:2,:]= -1\n",
    "        self.position[:,0:2] = -1\n",
    "        self.position[-2:, :] = -1\n",
    "        self.position[-2:, :] = -1\n",
    "\n",
    "        self.position[self.x, self.y] = 1\n",
    "        if action == 0:\n",
    "            if self.x == self.grid_size-3:\n",
    "                self.x = self.x-1\n",
    "            else:\n",
    "                self.x = self.x + 1\n",
    "        elif action == 1:\n",
    "            if self.x == 2:\n",
    "                self.x = self.x+1\n",
    "            else:\n",
    "                self.x = self.x-1\n",
    "        elif action == 2:\n",
    "            if self.y == self.grid_size - 3:\n",
    "                self.y = self.y - 1\n",
    "            else:\n",
    "                self.y = self.y + 1\n",
    "        elif action == 3:\n",
    "            if self.y == 2:\n",
    "                self.y = self.y + 1\n",
    "            else:\n",
    "                self.y = self.y - 1\n",
    "        else:\n",
    "            RuntimeError('Error: action not recognized')\n",
    "\n",
    "        self.t = self.t + 1\n",
    "        reward = self.board[self.x, self.y]\n",
    "        self.board[self.x, self.y] = 0\n",
    "        game_over = self.t > self.max_time\n",
    "        state = np.concatenate((self.board.reshape(self.grid_size, self.grid_size,1),\n",
    "                        self.position.reshape(self.grid_size, self.grid_size,1)),axis=2)\n",
    "        state = state[self.x-2:self.x+3,self.y-2:self.y+3,:]\n",
    "\n",
    "        return state, reward, game_over\n",
    "\n",
    "    def reset(self):\n",
    "        \"\"\"This function resets the game and returns the initial state\"\"\"\n",
    "\n",
    "        self.x = np.random.randint(3, self.grid_size-3, size=1)[0]\n",
    "        self.y = np.random.randint(3, self.grid_size-3, size=1)[0]\n",
    "\n",
    "\n",
    "        bonus = 0.5*np.random.binomial(1,self.temperature,size=self.grid_size**2)\n",
    "        bonus = bonus.reshape(self.grid_size,self.grid_size)\n",
    "\n",
    "        malus = -1.0*np.random.binomial(1,self.temperature,size=self.grid_size**2)\n",
    "        malus = malus.reshape(self.grid_size, self.grid_size)\n",
    "\n",
    "        self.to_draw = np.zeros((self.max_time+2, self.grid_size*self.scale, self.grid_size*self.scale, 3))\n",
    "\n",
    "\n",
    "        malus[bonus>0]=0\n",
    "\n",
    "        self.board = bonus + malus\n",
    "\n",
    "        self.position = np.zeros((self.grid_size, self.grid_size))\n",
    "        self.position[0:2,:]= -1\n",
    "        self.position[:,0:2] = -1\n",
    "        self.position[-2:, :] = -1\n",
    "        self.position[-2:, :] = -1\n",
    "        self.board[self.x,self.y] = 0\n",
    "        self.t = 0\n",
    "\n",
    "        state = np.concatenate((\n",
    "                               self.board.reshape(self.grid_size, self.grid_size,1),\n",
    "                        self.position.reshape(self.grid_size, self.grid_size,1)),axis=2)\n",
    "\n",
    "        state = state[self.x - 2:self.x + 3, self.y - 2:self.y + 3, :]\n",
    "        return state"
   ]
  },
  {
   "cell_type": "markdown",
   "metadata": {},
   "source": [
    "The following elements are important because they correspond to the hyper parameters for this project:"
   ]
  },
  {
   "cell_type": "code",
   "execution_count": 13,
   "metadata": {},
   "outputs": [],
   "source": [
    "# parameters\n",
    "size = 13\n",
    "T=200\n",
    "temperature=0.3\n",
    "epochs_train=15 # set small when debugging\n",
    "epochs_test=15 # set small when debugging\n",
    "\n",
    "# display videos\n",
    "def display_videos(name):\n",
    "    video = io.open(name, 'r+b').read()\n",
    "    encoded = base64.b64encode(video)\n",
    "    return '''<video alt=\"test\" controls>\n",
    "                <source src=\"data:video/mp4;base64,{0}\" type=\"video/mp4\" />\n",
    "             </video>'''.format(encoded.decode('ascii'))"
   ]
  },
  {
   "cell_type": "markdown",
   "metadata": {},
   "source": [
    "__Question 2__ Explain the use of the arrays ```position``` and ```board```."
   ]
  },
  {
   "cell_type": "markdown",
   "metadata": {},
   "source": [
    "- board is an array with all the rewards of the positions of the board (0.5 if cheese, -1 if poison, 0 otherwise).\n",
    "- position is an array with the current position of the rat (1), the borders of the board (-1) and available cekks (0)."
   ]
  },
  {
   "cell_type": "markdown",
   "metadata": {},
   "source": [
    "## Random Agent"
   ]
  },
  {
   "cell_type": "markdown",
   "metadata": {},
   "source": [
    "***\n",
    "__Question 3__ Implement a random Agent (only ```learned_act``` needs to be implemented):"
   ]
  },
  {
   "cell_type": "code",
   "execution_count": 14,
   "metadata": {},
   "outputs": [],
   "source": [
    "class RandomAgent(Agent):\n",
    "    def __init__(self):\n",
    "        super(RandomAgent, self).__init__()\n",
    "        pass\n",
    "\n",
    "    def learned_act(self, s, train=True):\n",
    "        return np.random.randint(4)"
   ]
  },
  {
   "cell_type": "markdown",
   "metadata": {},
   "source": [
    "***\n",
    "***\n",
    "__Question 4__ Visualize the game moves. You need to fill in the following function for the evaluation:"
   ]
  },
  {
   "cell_type": "code",
   "execution_count": 15,
   "metadata": {},
   "outputs": [],
   "source": [
    "def test(agent,env,epochs,prefix=''):\n",
    "    # Number of won games\n",
    "    score = 0\n",
    "        \n",
    "    for e in range(epochs):\n",
    "        \n",
    "        ##### FILL IN HERE\n",
    "        state = env.reset()\n",
    "        win = 0\n",
    "        lose = 0\n",
    "        game_over = False\n",
    "        \n",
    "        while not game_over:\n",
    "            action = agent.act(state, train=False)\n",
    "\n",
    "            prev_state = state\n",
    "            state, reward, game_over = env.act(action, train=False)\n",
    "            \n",
    "            # Update the counters\n",
    "            if reward > 0:\n",
    "                win = win + reward\n",
    "            if reward < 0:\n",
    "                lose = lose -reward\n",
    "        \n",
    "        # Save as a mp4\n",
    "        env.draw(prefix+str(e))\n",
    "\n",
    "        # Update stats\n",
    "        score = score + win-lose\n",
    "\n",
    "        print(\"Win/lose count {}/{}. Average score ({})\"\n",
    "              .format(win, lose, score/(1+e)))\n",
    "    print('Final score: '+str(score/epochs))"
   ]
  },
  {
   "cell_type": "code",
   "execution_count": 16,
   "metadata": {},
   "outputs": [
    {
     "name": "stdout",
     "output_type": "stream",
     "text": [
      "Win/lose count 9.5/9.0. Average score (0.5)\n",
      "Win/lose count 12.0/13.0. Average score (-0.25)\n",
      "Win/lose count 8.5/19.0. Average score (-3.6666666666666665)\n",
      "Win/lose count 9.5/11.0. Average score (-3.125)\n",
      "Win/lose count 14.5/7.0. Average score (-1.0)\n",
      "Win/lose count 10.5/22.0. Average score (-2.75)\n",
      "Win/lose count 10.0/16.0. Average score (-3.2142857142857144)\n",
      "Win/lose count 9.0/17.0. Average score (-3.8125)\n",
      "Win/lose count 12.5/15.0. Average score (-3.6666666666666665)\n",
      "Win/lose count 5.5/12.0. Average score (-3.95)\n",
      "Win/lose count 8.5/8.0. Average score (-3.5454545454545454)\n",
      "Win/lose count 12.0/17.0. Average score (-3.6666666666666665)\n",
      "Win/lose count 13.5/14.0. Average score (-3.423076923076923)\n",
      "Win/lose count 6.0/10.0. Average score (-3.4642857142857144)\n",
      "Win/lose count 6.5/8.0. Average score (-3.3333333333333335)\n",
      "Final score: -3.3333333333333335\n"
     ]
    },
    {
     "data": {
      "text/html": [
       "<video alt=\"test\" controls>\n",
       "                <source src=\"data:video/mp4;base64,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\" type=\"video/mp4\" />\n",
       "             </video>"
      ],
      "text/plain": [
       "<IPython.core.display.HTML object>"
      ]
     },
     "execution_count": 16,
     "metadata": {},
     "output_type": "execute_result"
    }
   ],
   "source": [
    "# Initialize the game\n",
    "env = Environment(grid_size=size, max_time=T,temperature=temperature)\n",
    "\n",
    "# Initialize the agent!\n",
    "agent = RandomAgent()\n",
    "\n",
    "test(agent,env,epochs_test,prefix='random')\n",
    "HTML(display_videos('random0.mp4'))"
   ]
  },
  {
   "cell_type": "markdown",
   "metadata": {},
   "source": [
    "***\n",
    "## DQN"
   ]
  },
  {
   "cell_type": "markdown",
   "metadata": {},
   "source": [
    "Let us assume here that $T=\\infty$.\n",
    "\n",
    "***\n",
    "__Question 5__ Let $\\pi$ be a policy, show that:\n",
    "\n",
    "\\begin{equation*}\n",
    "Q^{\\pi}(s,a)=E_{(s',a')\\sim p(.|s,a)}[r(s,a)+\\gamma Q^{\\pi}(s',a')]\n",
    "\\end{equation*}\n",
    "\n",
    "Then, show that for the optimal policy $\\pi^*$ (we assume its existence), the following holds: \n",
    "\n",
    "\\begin{equation*}\n",
    "Q^{*}(s,a)=E_{s'\\sim \\pi^*(.|s,a)}[r(s,a)+\\gamma\\max_{a'}Q^{*}(s',a')].\n",
    "\\end{equation*}\n",
    "Finally, deduce that a plausible objective is:\n",
    "\n",
    "\\begin{equation*}\n",
    "\\mathcal{L}(\\theta)=E_{s' \\sim \\pi^*(.|s,a)}\\Vert r+\\gamma\\max\\max_{a'}Q(s',a',\\theta)-Q(s,a,\\theta)\\Vert^{2}.\n",
    "\\end{equation*}\n",
    "\n",
    "\n"
   ]
  },
  {
   "cell_type": "markdown",
   "metadata": {},
   "source": [
    "Definition of the Q-function:\n",
    "\n",
    "\\begin{align}\n",
    "Q^{\\pi}(s,a) &= E[\\sum_{t=0}^{\\infty} \\gamma^t r(s_t,a_t) | s_0=s, a_0=a, a_t=\\pi(s_t) \\forall t \\ge 1] \\\\\n",
    "&= E[r_0 + \\gamma \\sum_{t=0}^{\\infty} \\gamma^t r(s_{t+1},a_{t+1}) | s_0=s, a_0=a, a_t=\\pi(s_t) \\forall t \\ge 1] \\\\\n",
    "&= r(s,a) + \\sum_{s'} p(s' | s,a) \\gamma E[\\sum_{t=0}^{\\infty} \\gamma^t r(s_{t+1},a_{t+1}) | s_1=s', a_t=\\pi(s_t) \\forall t \\ge 1] \\\\\n",
    "&= r(s,a) + \\sum_{s'} p(s' | s,a) \\gamma E[\\sum_{t'=0}^{\\infty} \\gamma^{t'} r(s_{t'},a_{t'}) | s_0=s', a_0 = \\pi(s_0), a_t=\\pi(s_t) \\forall t \\ge 1] \\\\\n",
    "&= r(s,a) + \\gamma \\sum_{s'} p(s' | s,a) Q^{\\pi}(s', \\pi(s')) \\\\\n",
    "&= r(s,a) + \\gamma E_{s' \\sim p(.| s,a)} [Q^{\\pi}(s', \\pi(s'))] \\\\\n",
    "&= r(s,a) + \\gamma E_{s' \\sim p(.| s,a)} [Q^{\\pi}(s', \\pi(s'))] \\\\\n",
    "&= E_{s' \\sim p(.| s,a)} [ r(s,a) + \\gamma Q^{\\pi}(s', \\pi(s'))]\n",
    "\\end{align}\n",
    "\n",
    "\n",
    "If an optimal policy $\\pi ^*$ exists, the following holds:\n",
    "\\begin{align}\n",
    "\\\\\n",
    "Q^*(s,a) &= Q^{\\pi^*}(s,a) \\\\\n",
    "         &= \\max _\\pi Q^{\\pi}(s,a) \\\\\n",
    "         &= \\max _\\pi  E_{s' \\sim p(.| s,a)} [ r(s,a) + \\gamma Q^{\\pi}(s', \\pi(s'))] \\\\\n",
    "         &= \\max _{a'}  E_{s' \\sim p(.| s,a)} [ r(s,a) + \\gamma Q^{\\pi}(s', a')] \\\\\n",
    "         &=  E_{s' \\sim p(.| s,a)} [ r(s,a) + \\gamma \\max _{a'} Q^{\\pi}(s', a')] \\\\\n",
    "\\end{align}\n",
    "\n",
    "\n",
    "We want to minimize the difference between the Q-function of the optimal policy $Q^*(s,a,\\theta)$ and our Q-function estimator $Q(s,a,\\theta)$. We can minimize the expectation of the L2 norm between the two:\n",
    "\n",
    "\\begin{equation*}\n",
    "\\mathcal{L}(\\theta)=E_{s' \\sim p(.|s,a)}\\Vert r+\\gamma\\max_{a'}Q(s',a',\\theta)-Q(s,a,\\theta)\\Vert^{2}.\n",
    "\\end{equation*}\n"
   ]
  },
  {
   "cell_type": "markdown",
   "metadata": {},
   "source": [
    "***\n",
    "The DQN-learning algorithm relies on these derivations to train the parameters $\\theta$ of a Deep Neural Network:\n",
    "\n",
    "1. At the state $s_t$, select the action $a_t$ with best reward using $Q_t$ and store the results;\n",
    "\n",
    "2. Obtain the new state $s_{t+1}$ from the environment $p$;\n",
    "\n",
    "3. Store $(s_t,a_t,s_{t+1})$;\n",
    "\n",
    "4. Obtain $Q_{t+1}$ by minimizing  $\\mathcal{L}$ from a recovered batch from the previously stored results.\n",
    "\n",
    "***\n",
    "__Question 6__ Implement the class ```Memory``` that stores moves (in a replay buffer) via ```remember``` and provides a ```random_access``` to these. Specify a maximum memory size to avoid side effects. You can for example use a ```list()``` and set by default ```max_memory=100```."
   ]
  },
  {
   "cell_type": "code",
   "execution_count": 17,
   "metadata": {},
   "outputs": [],
   "source": [
    "class Memory(object):\n",
    "    def __init__(self, max_memory=100):\n",
    "        self.max_memory = max_memory\n",
    "        self.memory = list()\n",
    "\n",
    "    def remember(self, m):\n",
    "        # queue structure: « first in, first out »\n",
    "        if len(self.memory)>=self.max_memory:\n",
    "            self.memory.pop(0)\n",
    "        self.memory.append(m)\n",
    "\n",
    "    def random_access(self):\n",
    "        rnd = np.random.randint(0,len(self.memory))\n",
    "        return self.memory[rnd]"
   ]
  },
  {
   "cell_type": "markdown",
   "metadata": {},
   "source": [
    "***\n",
    "The pipeline we will use for training is given below:"
   ]
  },
  {
   "cell_type": "code",
   "execution_count": 18,
   "metadata": {},
   "outputs": [],
   "source": [
    "def train(agent,env,epoch,prefix=''):\n",
    "    # Number of won games\n",
    "    score = 0\n",
    "    loss = 0\n",
    "\n",
    "    for e in range(epoch):\n",
    "        # At each epoch, we restart to a fresh game and get the initial state\n",
    "        state = env.reset()\n",
    "        # This assumes that the games will terminate\n",
    "        game_over = False\n",
    "\n",
    "        win = 0\n",
    "        lose = 0\n",
    "\n",
    "        while not game_over:\n",
    "            # The agent performs an action\n",
    "            action = agent.act(state)\n",
    "\n",
    "            # Apply an action to the environment, get the next state, the reward\n",
    "            # and if the games end\n",
    "            prev_state = state\n",
    "            state, reward, game_over = env.act(action)\n",
    "\n",
    "            # Update the counters\n",
    "            if reward > 0:\n",
    "                win = win + reward\n",
    "            if reward < 0:\n",
    "                lose = lose -reward\n",
    "\n",
    "            # Apply the reinforcement strategy\n",
    "            loss = agent.reinforce(prev_state, state,  action, reward, game_over)\n",
    "\n",
    "        # Save as a mp4\n",
    "        if e % 10 == 0:\n",
    "            env.draw(prefix+str(e))\n",
    "\n",
    "        # Update stats\n",
    "        score += win-lose\n",
    "\n",
    "        print(\"Epoch {:03d}/{:03d} | Loss {:.4f} | Win/lose count {}/{} ({})\"\n",
    "              .format(e, epoch, loss, win, lose, win-lose))\n",
    "        agent.save(name_weights=prefix+'model.h5',name_model=prefix+'model.json')"
   ]
  },
  {
   "cell_type": "markdown",
   "metadata": {},
   "source": [
    "***\n",
    "__Question 7__ Implement the DQN training algorithm using a cascade of fully connected layers. You can use different learning rate, batch size or memory size parameters. In particular, the loss might oscillate while the player will start to win the games. You have to find a good criterium."
   ]
  },
  {
   "cell_type": "code",
   "execution_count": 19,
   "metadata": {},
   "outputs": [],
   "source": [
    "class DQN(Agent):\n",
    "    def __init__(self, grid_size,  epsilon = 0.1, memory_size=100, batch_size = 16,n_state=2):\n",
    "        super(DQN, self).__init__(epsilon = epsilon)\n",
    "\n",
    "        # Discount for Q learning\n",
    "        self.discount = 0.99\n",
    "        \n",
    "        self.grid_size = grid_size\n",
    "        \n",
    "        # number of state\n",
    "        self.n_state = n_state\n",
    "\n",
    "        # Memory\n",
    "        self.memory = Memory(memory_size)\n",
    "        \n",
    "        # Batch size when learning\n",
    "        self.batch_size = batch_size\n",
    "\n",
    "    def learned_act(self, s):\n",
    "        action_expects = self.model.predict(s.reshape(1, 5, 5, self.n_state))\n",
    "        return np.argmax(action_expects)\n",
    "\n",
    "    def reinforce(self, s_, n_s_, a_, r_, game_over_):\n",
    "        # Two steps: first memorize the states, second learn from the pool\n",
    "\n",
    "        self.memory.remember([s_, n_s_, a_, r_, game_over_])\n",
    "        \n",
    "        input_states = np.zeros((self.batch_size, 5,5,self.n_state))\n",
    "        target_q = np.zeros((self.batch_size, 4))\n",
    "        \n",
    "        for i in range(self.batch_size):\n",
    "            ######## FILL IN\n",
    "            state, new_state, action, reward, game_over_ = self.memory.random_access()                        \n",
    "            input_states[i] = state\n",
    "            target_q[i] = self.model.predict(state.reshape(1, 5, 5, self.n_state))\n",
    "            \n",
    "            if game_over_:\n",
    "                ######## FILL IN\n",
    "                target_q[i][action] = reward\n",
    "            else:\n",
    "                ######## FILL IN\n",
    "                target_q[i][action] = reward + self.discount * np.max(self.model.predict(new_state.reshape(1, 5, 5, self.n_state)))\n",
    "        ######## FILL IN\n",
    "        # HINT: Clip the target to avoid exploiding gradients.. -- clipping is a bit tighter\n",
    "        target_q = np.clip(target_q, -3, 3)\n",
    "\n",
    "        l = self.model.train_on_batch(input_states, target_q)\n",
    "\n",
    "\n",
    "        return l\n",
    "\n",
    "    def save(self,name_weights='model.h5',name_model='model.json'):\n",
    "        self.model.save_weights(name_weights, overwrite=True)\n",
    "        with open(name_model, \"w\") as outfile:\n",
    "            json.dump(self.model.to_json(), outfile)\n",
    "            \n",
    "    def load(self,name_weights='model.h5',name_model='model.json'):\n",
    "        with open(name_model, \"r\") as jfile:\n",
    "            model = model_from_json(json.load(jfile))\n",
    "        model.load_weights(name_weights)\n",
    "        model.compile(\"sgd\", \"mse\")\n",
    "        self.model = model\n",
    "\n",
    "            \n",
    "class DQN_FC(DQN):\n",
    "    def __init__(self, *args, lr=0.1,**kwargs):\n",
    "        super(DQN_FC, self).__init__( *args,**kwargs)\n",
    "        \n",
    "        # NN Model\n",
    "        \n",
    "        ####### FILL IN\n",
    "        model = Sequential([\n",
    "            Flatten(input_shape=(5, 5, self.n_state)),\n",
    "            Dense(32, activation=\"relu\"),\n",
    "            Dense(16, activation=\"relu\"),\n",
    "            Dense(4)])\n",
    "        \n",
    "        model.compile(sgd(lr=lr, decay=1e-4, momentum=0.0), \"mse\")\n",
    "        self.model = model\n",
    "        "
   ]
  },
  {
   "cell_type": "code",
   "execution_count": 20,
   "metadata": {},
   "outputs": [
    {
     "name": "stdout",
     "output_type": "stream",
     "text": [
      "WARNING:tensorflow:From /home/afb2110/anaconda3/lib/python3.7/site-packages/tensorflow/python/ops/resource_variable_ops.py:435: colocate_with (from tensorflow.python.framework.ops) is deprecated and will be removed in a future version.\n",
      "Instructions for updating:\n",
      "Colocations handled automatically by placer.\n",
      "WARNING:tensorflow:From /home/afb2110/anaconda3/lib/python3.7/site-packages/tensorflow/python/ops/math_ops.py:3066: to_int32 (from tensorflow.python.ops.math_ops) is deprecated and will be removed in a future version.\n",
      "Instructions for updating:\n",
      "Use tf.cast instead.\n",
      "Epoch 000/015 | Loss 0.0042 | Win/lose count 6.0/12.0 (-6.0)\n",
      "Epoch 001/015 | Loss 0.0070 | Win/lose count 1.5/3.0 (-1.5)\n",
      "Epoch 002/015 | Loss 0.0141 | Win/lose count 3.5/1.0 (2.5)\n",
      "Epoch 003/015 | Loss 0.0036 | Win/lose count 3.0/4.0 (-1.0)\n",
      "Epoch 004/015 | Loss 0.0034 | Win/lose count 1.5/3.0 (-1.5)\n",
      "Epoch 005/015 | Loss 0.0034 | Win/lose count 3.0/3.0 (0.0)\n",
      "Epoch 006/015 | Loss 0.0073 | Win/lose count 6.5/2.0 (4.5)\n",
      "Epoch 007/015 | Loss 0.0058 | Win/lose count 3.0/3.0 (0.0)\n",
      "Epoch 008/015 | Loss 0.0536 | Win/lose count 2.5/1.0 (1.5)\n",
      "Epoch 009/015 | Loss 0.0514 | Win/lose count 2.0/0 (2.0)\n",
      "Epoch 010/015 | Loss 0.0028 | Win/lose count 5.5/3.0 (2.5)\n",
      "Epoch 011/015 | Loss 0.0042 | Win/lose count 4.0/5.0 (-1.0)\n",
      "Epoch 012/015 | Loss 0.0074 | Win/lose count 4.0/5.0 (-1.0)\n",
      "Epoch 013/015 | Loss 0.0025 | Win/lose count 2.5/0 (2.5)\n",
      "Epoch 014/015 | Loss 0.0155 | Win/lose count 5.0/2.0 (3.0)\n"
     ]
    },
    {
     "data": {
      "text/html": [
       "<video alt=\"test\" controls>\n",
       "                <source src=\"data:video/mp4;base64,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\" type=\"video/mp4\" />\n",
       "             </video>"
      ],
      "text/plain": [
       "<IPython.core.display.HTML object>"
      ]
     },
     "execution_count": 20,
     "metadata": {},
     "output_type": "execute_result"
    }
   ],
   "source": [
    "env = Environment(grid_size=size, max_time=T, temperature=0.3)\n",
    "agent = DQN_FC(size, lr=.1, epsilon = 0.1, memory_size=2000, batch_size = 32)\n",
    "train(agent, env, epochs_train, prefix='fc_train')\n",
    "HTML(display_videos('fc_train10.mp4'))"
   ]
  },
  {
   "cell_type": "markdown",
   "metadata": {},
   "source": [
    "***\n",
    "***\n",
    "__Question 8__ Implement the DQN training algorithm using a CNN (for example, 2 convolutional layers and one final fully connected layer)."
   ]
  },
  {
   "cell_type": "code",
   "execution_count": 21,
   "metadata": {},
   "outputs": [],
   "source": [
    "class DQN_CNN(DQN):\n",
    "    def __init__(self, *args,lr=0.1,**kwargs):\n",
    "        super(DQN_CNN, self).__init__(*args,**kwargs)\n",
    "        \n",
    "        ###### FILL IN\n",
    "        model = Sequential([\n",
    "            Conv2D(64, (3,3), activation='relu', padding=\"same\",input_shape=(5,5,self.n_state)),\n",
    "            Conv2D(32, (3,3), activation='relu',padding=\"same\"),\n",
    "            Conv2D(32, (3,3), activation='relu',padding=\"same\"),\n",
    "            Flatten(),\n",
    "            Dense(32),\n",
    "            Dropout(0.2),\n",
    "            Dense(4) \n",
    "        ])\n",
    "\n",
    "        \n",
    "        model.compile(sgd(lr=lr, decay=1e-4, momentum=0.0), \"mse\")\n",
    "        self.model = model"
   ]
  },
  {
   "cell_type": "code",
   "execution_count": 22,
   "metadata": {},
   "outputs": [
    {
     "name": "stdout",
     "output_type": "stream",
     "text": [
      "Epoch 000/015 | Loss 0.0073 | Win/lose count 3.0/6.0 (-3.0)\n",
      "Epoch 001/015 | Loss 0.0114 | Win/lose count 5.0/4.0 (1.0)\n",
      "Epoch 002/015 | Loss 0.0172 | Win/lose count 2.5/5.0 (-2.5)\n",
      "Epoch 003/015 | Loss 0.0059 | Win/lose count 3.5/4.0 (-0.5)\n",
      "Epoch 004/015 | Loss 0.0021 | Win/lose count 4.5/4.0 (0.5)\n",
      "Epoch 005/015 | Loss 0.0069 | Win/lose count 7.0/2.0 (5.0)\n",
      "Epoch 006/015 | Loss 0.0031 | Win/lose count 6.0/1.0 (5.0)\n",
      "Epoch 007/015 | Loss 0.0058 | Win/lose count 8.5/3.0 (5.5)\n",
      "Epoch 008/015 | Loss 0.0096 | Win/lose count 8.5/4.0 (4.5)\n",
      "Epoch 009/015 | Loss 0.0084 | Win/lose count 4.0/2.0 (2.0)\n",
      "Epoch 010/015 | Loss 0.0065 | Win/lose count 10.0/2.0 (8.0)\n",
      "Epoch 011/015 | Loss 0.0041 | Win/lose count 6.0/2.0 (4.0)\n",
      "Epoch 012/015 | Loss 0.0148 | Win/lose count 7.5/3.0 (4.5)\n",
      "Epoch 013/015 | Loss 0.0146 | Win/lose count 3.5/2.0 (1.5)\n",
      "Epoch 014/015 | Loss 0.0111 | Win/lose count 9.5/3.0 (6.5)\n"
     ]
    },
    {
     "data": {
      "text/html": [
       "<video alt=\"test\" controls>\n",
       "                <source src=\"data:video/mp4;base64,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\" type=\"video/mp4\" />\n",
       "             </video>"
      ],
      "text/plain": [
       "<IPython.core.display.HTML object>"
      ]
     },
     "execution_count": 22,
     "metadata": {},
     "output_type": "execute_result"
    }
   ],
   "source": [
    "env = Environment(grid_size=size, max_time=T, temperature=0.3)\n",
    "agent = DQN_CNN(size, lr=.1, epsilon = 0.1, memory_size=2000, batch_size = 32)\n",
    "train(agent,env,epochs_train,prefix='cnn_train')\n",
    "HTML(display_videos('cnn_train10.mp4'))"
   ]
  },
  {
   "cell_type": "markdown",
   "metadata": {},
   "source": [
    "***\n",
    "***\n",
    "__Question 9__ Test both algorithms and compare their performances. Which issue(s) do you observe? Observe also different behaviors by changing the temperature."
   ]
  },
  {
   "cell_type": "code",
   "execution_count": 23,
   "metadata": {},
   "outputs": [
    {
     "name": "stdout",
     "output_type": "stream",
     "text": [
      "Test of the CNN\n",
      "Win/lose count 0/0. Average score (0.0)\n",
      "Win/lose count 0.5/1.0. Average score (-0.25)\n",
      "Win/lose count 3.0/1.0. Average score (0.5)\n",
      "Win/lose count 4.5/2.0. Average score (1.0)\n",
      "Win/lose count 2.5/0. Average score (1.3)\n",
      "Win/lose count 0/0. Average score (1.0833333333333333)\n",
      "Win/lose count 0/0. Average score (0.9285714285714286)\n",
      "Win/lose count 0.5/0. Average score (0.875)\n",
      "Win/lose count 1.0/1.0. Average score (0.7777777777777778)\n",
      "Win/lose count 0.5/1.0. Average score (0.65)\n",
      "Win/lose count 2.0/0. Average score (0.7727272727272727)\n",
      "Win/lose count 1.0/0. Average score (0.7916666666666666)\n",
      "Win/lose count 3.5/0. Average score (1.0)\n",
      "Win/lose count 2.0/0. Average score (1.0714285714285714)\n",
      "Win/lose count 0.5/0. Average score (1.0333333333333334)\n",
      "Final score: 1.0333333333333334\n",
      "Test of the FC\n",
      "Win/lose count 1.0/2.0. Average score (-1.0)\n",
      "Win/lose count 1.5/0. Average score (0.25)\n",
      "Win/lose count 1.0/0. Average score (0.5)\n",
      "Win/lose count 0.5/0. Average score (0.5)\n",
      "Win/lose count 0.5/0. Average score (0.5)\n",
      "Win/lose count 0/1.0. Average score (0.25)\n",
      "Win/lose count 0.5/0. Average score (0.2857142857142857)\n",
      "Win/lose count 0/1.0. Average score (0.125)\n",
      "Win/lose count 1.5/2.0. Average score (0.05555555555555555)\n",
      "Win/lose count 2.5/2.0. Average score (0.1)\n",
      "Win/lose count 1.5/1.0. Average score (0.13636363636363635)\n",
      "Win/lose count 0.5/0. Average score (0.16666666666666666)\n",
      "Win/lose count 1.5/3.0. Average score (0.038461538461538464)\n",
      "Win/lose count 1.0/0. Average score (0.10714285714285714)\n",
      "Win/lose count 1.0/1.0. Average score (0.1)\n",
      "Final score: 0.1\n"
     ]
    }
   ],
   "source": [
    "env = Environment(grid_size=size, max_time=T,temperature=0.3)\n",
    "agent_cnn = DQN_CNN(size, lr=.1, epsilon = 0.1, memory_size=2000, batch_size = 32)\n",
    "agent_cnn.load(name_weights='cnn_trainmodel.h5',name_model='cnn_trainmodel.json')\n",
    "\n",
    "agent_fc = DQN_FC(size, lr=.1, epsilon = 0.1, memory_size=2000, batch_size = 32)\n",
    "agent_cnn.load(name_weights='fc_trainmodel.h5',name_model='fc_trainmodel.json')\n",
    "print('Test of the CNN')\n",
    "test(agent_cnn,env,epochs_test,prefix='cnn_test')\n",
    "print('Test of the FC')\n",
    "test(agent_fc,env,epochs_test,prefix='fc_test')"
   ]
  },
  {
   "cell_type": "code",
   "execution_count": 24,
   "metadata": {},
   "outputs": [
    {
     "data": {
      "text/html": [
       "<video alt=\"test\" controls>\n",
       "                <source src=\"data:video/mp4;base64,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\" type=\"video/mp4\" />\n",
       "             </video>"
      ],
      "text/plain": [
       "<IPython.core.display.HTML object>"
      ]
     },
     "execution_count": 24,
     "metadata": {},
     "output_type": "execute_result"
    }
   ],
   "source": [
    "HTML(display_videos('cnn_test10.mp4'))"
   ]
  },
  {
   "cell_type": "code",
   "execution_count": 25,
   "metadata": {},
   "outputs": [
    {
     "data": {
      "text/html": [
       "<video alt=\"test\" controls>\n",
       "                <source src=\"data:video/mp4;base64,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\" type=\"video/mp4\" />\n",
       "             </video>"
      ],
      "text/plain": [
       "<IPython.core.display.HTML object>"
      ]
     },
     "execution_count": 25,
     "metadata": {},
     "output_type": "execute_result"
    }
   ],
   "source": [
    "HTML(display_videos('fc_test10.mp4'))"
   ]
  },
  {
   "cell_type": "markdown",
   "metadata": {},
   "source": [
    "CNN architecture achieves better results than fully-connected architecture. The main problem observed on videos is that the agent does not explore enough: it ends up stuck between 2 or 3 states. A high temperature increases the positive rewards cells: the agent explores more since he often sees positive rewards in his surroundings, and the final average score is better."
   ]
  },
  {
   "cell_type": "markdown",
   "metadata": {},
   "source": [
    "***\n",
    "\n",
    "The algorithm tends to not explore the map which can be an issue. We propose two ideas in order to encourage exploration:\n",
    "1. Incorporating a decreasing $\\epsilon$-greedy exploration. You can use the method ```set_epsilon```\n",
    "2. Append via the environment a new state that describes if a cell has been visited or not\n",
    "\n",
    "***\n",
    "__Question 10__ Design a new ```train_explore``` function and environment class ```EnvironmentExploring``` to tackle the issue of exploration.\n",
    "\n"
   ]
  },
  {
   "cell_type": "code",
   "execution_count": 26,
   "metadata": {},
   "outputs": [],
   "source": [
    "def train_explore(agent,env,epoch,prefix='', eps_decay = 0.99):\n",
    "    # Number of won games\n",
    "    score = 0\n",
    "    loss = 0\n",
    "\n",
    "    for e in range(epoch):\n",
    "        # At each epoch, we restart to a fresh game and get the initial state\n",
    "        state = env.reset()\n",
    "        # This assumes that the games will terminate\n",
    "        game_over = False\n",
    "\n",
    "        win = 0\n",
    "        lose = 0\n",
    "\n",
    "        while not game_over:\n",
    "            # The agent performs an action\n",
    "            action = agent.act(state)\n",
    "\n",
    "            # Apply an action to the environment, get the next state, the reward\n",
    "            # and if the games end\n",
    "            prev_state = state\n",
    "            state, reward, game_over = env.act(action, train=True)\n",
    "\n",
    "            # Update the counters\n",
    "            if reward > 0:\n",
    "                win = win + reward\n",
    "            if reward < 0:\n",
    "                lose = lose -reward\n",
    "\n",
    "            # Apply the reinforcement strategy\n",
    "            loss = agent.reinforce(prev_state, state,  action, reward, game_over)\n",
    "\n",
    "            #Decreasing eps-greedy policy\n",
    "            agent.set_epsilon(agent.epsilon * eps_decay)\n",
    "            \n",
    "        # Save as a mp4\n",
    "        if e % 10 == 0:\n",
    "            env.draw(prefix+str(e))\n",
    "\n",
    "        # Update stats\n",
    "        score += win-lose\n",
    "\n",
    "        print(\"Epoch {:03d}/{:03d} | Loss {:.4f} | Win/lose count {}/{} ({})\"\n",
    "              .format(e, epoch, loss, win, lose, win-lose))\n",
    "        agent.save(name_weights=prefix+'model.h5',name_model=prefix+'model.json')\n",
    "        \n",
    "class EnvironmentExploring(object):\n",
    "    def __init__(self, grid_size=10, max_time=500, temperature=0.1):\n",
    "        \n",
    "        grid_size = grid_size+4\n",
    "        self.grid_size = grid_size\n",
    "        self.max_time = max_time\n",
    "        self.temperature = temperature\n",
    "\n",
    "        #board on which one plays\n",
    "        self.malus_position = np.zeros((grid_size,grid_size))\n",
    "        self.board = np.zeros((grid_size,grid_size))\n",
    "        self.position = np.zeros((grid_size,grid_size))\n",
    "\n",
    "        # coordinate of the rat\n",
    "        self.x = 0\n",
    "        self.y = 1\n",
    "\n",
    "        # self time\n",
    "        self.t = 0\n",
    "\n",
    "        self.scale=16\n",
    "\n",
    "        self.to_draw = np.zeros((max_time+2, grid_size*self.scale, grid_size*self.scale, 3))\n",
    "        \n",
    "    def draw(self,e):\n",
    "        skvideo.io.vwrite(str(e) + '.mp4', self.to_draw)\n",
    "\n",
    "    def get_frame(self,t):\n",
    "        b = np.zeros((self.grid_size,self.grid_size,3))+128\n",
    "        b[self.board>0,0] = 256\n",
    "        b[self.board < 0, 2] = 256\n",
    "        b[self.x,self.y,:]=256\n",
    "        b[-2:,:,:]=0\n",
    "        b[:,-2:,:]=0\n",
    "        b[:2,:,:]=0\n",
    "        b[:,:2,:]=0\n",
    "        \n",
    "        b =  cv2.resize(b, None, fx=self.scale, fy=self.scale, interpolation=cv2.INTER_NEAREST)\n",
    "\n",
    "        self.to_draw[t,:,:,:]=b\n",
    "\n",
    "    def act(self, action, train=True):\n",
    "        \"\"\"This function returns the new state, reward and decides if the\n",
    "        game ends.\"\"\"\n",
    "\n",
    "        self.get_frame(int(self.t))\n",
    "\n",
    "        self.position = np.zeros((self.grid_size, self.grid_size))\n",
    "\n",
    "        self.position[0:2,:]= -1\n",
    "        self.position[:,0:2] = -1\n",
    "        self.position[-2:, :] = -1\n",
    "        self.position[-2:, :] = -1\n",
    "\n",
    "        self.position[self.x, self.y] = 1\n",
    "        if action == 0:\n",
    "            if self.x == self.grid_size-3:\n",
    "                self.x = self.x-1\n",
    "            else:\n",
    "                self.x = self.x + 1\n",
    "        elif action == 1:\n",
    "            if self.x == 2:\n",
    "                self.x = self.x+1\n",
    "            else:\n",
    "                self.x = self.x-1\n",
    "        elif action == 2:\n",
    "            if self.y == self.grid_size - 3:\n",
    "                self.y = self.y - 1\n",
    "            else:\n",
    "                self.y = self.y + 1\n",
    "        elif action == 3:\n",
    "            if self.y == 2:\n",
    "                self.y = self.y + 1\n",
    "            else:\n",
    "                self.y = self.y - 1\n",
    "        else:\n",
    "            RuntimeError('Error: action not recognized')\n",
    "\n",
    "        self.t = self.t + 1\n",
    "        reward = self.board[self.x, self.y]\n",
    "        self.board[self.x, self.y] = 0\n",
    "        game_over = self.t > self.max_time\n",
    "        \n",
    "        if train:\n",
    "            reward -= self.malus_position[self.x, self.y]\n",
    "            \n",
    "        self.malus_position[self.x, self.y] += 0.1\n",
    "        \n",
    "\n",
    "        state = np.concatenate((self.malus_position.reshape(self.grid_size, self.grid_size,1),\n",
    "                                self.board.reshape(self.grid_size, self.grid_size,1),\n",
    "                        self.position.reshape(self.grid_size, self.grid_size,1)),axis=2)\n",
    "        state = state[self.x-2:self.x+3,self.y-2:self.y+3,:]\n",
    "\n",
    "        return state, reward, game_over\n",
    "\n",
    "    def reset(self):\n",
    "        \"\"\"This function resets the game and returns the initial state\"\"\"\n",
    "\n",
    "        self.x = np.random.randint(3, self.grid_size-3, size=1)[0]\n",
    "        self.y = np.random.randint(3, self.grid_size-3, size=1)[0]\n",
    "\n",
    "\n",
    "        bonus = 0.5*np.random.binomial(1,self.temperature,size=self.grid_size**2)\n",
    "        bonus = bonus.reshape(self.grid_size,self.grid_size)\n",
    "\n",
    "        malus = -1.0*np.random.binomial(1,self.temperature,size=self.grid_size**2)\n",
    "        malus = malus.reshape(self.grid_size, self.grid_size)\n",
    "\n",
    "        self.to_draw = np.zeros((self.max_time+2, self.grid_size*self.scale, self.grid_size*self.scale, 3))\n",
    "\n",
    "\n",
    "        malus[bonus>0]=0\n",
    "        \n",
    "        self.malus_position = np.zeros((self.grid_size, self.grid_size))\n",
    "        \n",
    "        self.board = bonus + malus\n",
    "\n",
    "        self.position = np.zeros((self.grid_size, self.grid_size))\n",
    "        self.position[0:2,:]= -1\n",
    "        self.position[:,0:2] = -1\n",
    "        self.position[-2:, :] = -1\n",
    "        self.position[-2:, :] = -1\n",
    "        self.board[self.x,self.y] = 0\n",
    "        self.t = 0\n",
    "\n",
    "        state = np.concatenate((self.malus_position.reshape(self.grid_size, self.grid_size,1),\n",
    "                                self.board.reshape(self.grid_size, self.grid_size,1),\n",
    "                        self.position.reshape(self.grid_size, self.grid_size,1)),axis=2)\n",
    "        state = state[self.x - 2:self.x + 3, self.y - 2:self.y + 3, :]\n",
    "        return state\n"
   ]
  },
  {
   "cell_type": "code",
   "execution_count": 27,
   "metadata": {},
   "outputs": [
    {
     "name": "stdout",
     "output_type": "stream",
     "text": [
      "Epoch 000/015 | Loss 0.0500 | Win/lose count 12.5/52.300000000000054 (-39.800000000000054)\n",
      "Epoch 001/015 | Loss 0.0354 | Win/lose count 20.0/26.50000000000002 (-6.500000000000021)\n",
      "Epoch 002/015 | Loss 0.0310 | Win/lose count 18.5/32.90000000000002 (-14.40000000000002)\n",
      "Epoch 003/015 | Loss 0.0617 | Win/lose count 24.0/25.900000000000013 (-1.9000000000000128)\n",
      "Epoch 004/015 | Loss 0.0294 | Win/lose count 15.5/30.700000000000003 (-15.200000000000003)\n",
      "Epoch 005/015 | Loss 0.0507 | Win/lose count 19.0/19.600000000000005 (-0.600000000000005)\n",
      "Epoch 006/015 | Loss 0.0470 | Win/lose count 28.0/14.299999999999988 (13.700000000000012)\n",
      "Epoch 007/015 | Loss 0.0740 | Win/lose count 26.0/14.299999999999985 (11.700000000000015)\n",
      "Epoch 008/015 | Loss 0.0287 | Win/lose count 23.0/20.69999999999998 (2.3000000000000185)\n",
      "Epoch 009/015 | Loss 0.0325 | Win/lose count 23.0/11.299999999999985 (11.700000000000015)\n",
      "Epoch 010/015 | Loss 0.0281 | Win/lose count 23.0/16.59999999999999 (6.400000000000009)\n",
      "Epoch 011/015 | Loss 0.0330 | Win/lose count 25.0/20.100000000000005 (4.899999999999995)\n",
      "Epoch 012/015 | Loss 0.0238 | Win/lose count 18.5/16.89999999999998 (1.6000000000000192)\n",
      "Epoch 013/015 | Loss 0.0295 | Win/lose count 24.0/21.000000000000007 (2.999999999999993)\n",
      "Epoch 014/015 | Loss 0.0497 | Win/lose count 23.0/17.09999999999998 (5.90000000000002)\n"
     ]
    },
    {
     "data": {
      "text/html": [
       "<video alt=\"test\" controls>\n",
       "                <source src=\"data:video/mp4;base64,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\" type=\"video/mp4\" />\n",
       "             </video>"
      ],
      "text/plain": [
       "<IPython.core.display.HTML object>"
      ]
     },
     "execution_count": 27,
     "metadata": {},
     "output_type": "execute_result"
    }
   ],
   "source": [
    "# Training\n",
    "env = EnvironmentExploring(grid_size=size, max_time=T, temperature=0.3)\n",
    "agent = DQN_CNN(size, lr=.1, epsilon = 1, memory_size=2000, batch_size = 32,n_state=3)\n",
    "train_explore(agent, env, epochs_train, prefix='cnn_train_explore')\n",
    "HTML(display_videos('cnn_train_explore10.mp4'))"
   ]
  },
  {
   "cell_type": "code",
   "execution_count": 28,
   "metadata": {},
   "outputs": [
    {
     "name": "stdout",
     "output_type": "stream",
     "text": [
      "Win/lose count 23.5/10.0. Average score (13.5)\n",
      "Win/lose count 23.5/7.0. Average score (15.0)\n",
      "Win/lose count 20.5/13.0. Average score (12.5)\n",
      "Win/lose count 23.5/10.0. Average score (12.75)\n",
      "Win/lose count 25.5/10.0. Average score (13.3)\n",
      "Win/lose count 27.0/7.0. Average score (14.416666666666666)\n",
      "Win/lose count 27.0/8.0. Average score (15.071428571428571)\n",
      "Win/lose count 24.5/6.0. Average score (15.5)\n",
      "Win/lose count 25.5/8.0. Average score (15.722222222222221)\n",
      "Win/lose count 27.5/5.0. Average score (16.4)\n",
      "Win/lose count 24.5/4.0. Average score (16.772727272727273)\n",
      "Win/lose count 19.5/5.0. Average score (16.583333333333332)\n",
      "Win/lose count 23.5/7.0. Average score (16.576923076923077)\n",
      "Win/lose count 21.0/7.0. Average score (16.392857142857142)\n",
      "Win/lose count 17.0/9.0. Average score (15.833333333333334)\n",
      "Final score: 15.833333333333334\n"
     ]
    },
    {
     "data": {
      "text/html": [
       "<video alt=\"test\" controls>\n",
       "                <source src=\"data:video/mp4;base64,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\" type=\"video/mp4\" />\n",
       "             </video>"
      ],
      "text/plain": [
       "<IPython.core.display.HTML object>"
      ]
     },
     "execution_count": 28,
     "metadata": {},
     "output_type": "execute_result"
    }
   ],
   "source": [
    "# Evaluation\n",
    "test(agent,env,epochs_test,prefix='cnn_test_explore')\n",
    "HTML(display_videos('cnn_test_explore10.mp4'))"
   ]
  },
  {
   "cell_type": "markdown",
   "metadata": {},
   "source": [
    "The results seen with the cnn_test_explore10 are almost perfect. I only made one change on the code compared to what was suggested: the malus on a cell is increasing each time the rat is on it. It gives even more weight to exploration."
   ]
  },
  {
   "cell_type": "markdown",
   "metadata": {},
   "source": [
    "***\n",
    "***\n",
    "__BONUS question__ Use the expert DQN from the previous question to generate some winning games. Train a model that mimicks its behavior. Compare the performances."
   ]
  },
  {
   "cell_type": "markdown",
   "metadata": {},
   "source": []
  },
  {
   "cell_type": "markdown",
   "metadata": {},
   "source": [
    "***"
   ]
  },
  {
   "cell_type": "code",
   "execution_count": null,
   "metadata": {},
   "outputs": [],
   "source": []
  }
 ],
 "metadata": {
  "kernelspec": {
   "display_name": "Python 3",
   "language": "python",
   "name": "python3"
  },
  "language_info": {
   "codemirror_mode": {
    "name": "ipython",
    "version": 3
   },
   "file_extension": ".py",
   "mimetype": "text/x-python",
   "name": "python",
   "nbconvert_exporter": "python",
   "pygments_lexer": "ipython3",
   "version": "3.7.3"
  }
 },
 "nbformat": 4,
 "nbformat_minor": 2
}
